{
 "cells": [
  {
   "cell_type": "code",
   "execution_count": 65,
   "metadata": {},
   "outputs": [],
   "source": [
    "import sqlite3"
   ]
  },
  {
   "cell_type": "code",
   "execution_count": 66,
   "metadata": {},
   "outputs": [],
   "source": [
    "conn = sqlite3.connect('example.db')\n",
    "codecur = conn.cursor()"
   ]
  },
  {
   "cell_type": "code",
   "execution_count": 67,
   "metadata": {},
   "outputs": [
    {
     "data": {
      "text/plain": [
       "<sqlite3.Cursor at 0x21ea0399540>"
      ]
     },
     "execution_count": 67,
     "metadata": {},
     "output_type": "execute_result"
    }
   ],
   "source": [
    "codecur.execute('''\n",
    "                DROP TABLE IF EXISTS portfolio\n",
    "                ''')"
   ]
  },
  {
   "cell_type": "code",
   "execution_count": 68,
   "metadata": {},
   "outputs": [
    {
     "data": {
      "text/plain": [
       "<sqlite3.Cursor at 0x21ea0399540>"
      ]
     },
     "execution_count": 68,
     "metadata": {},
     "output_type": "execute_result"
    }
   ],
   "source": [
    "codecur.execute('''\n",
    "                CREATE TABLE IF NOT EXISTS portfolio (\n",
    "                CLiENT_ID INTEGER PRIMARY KEY,\n",
    "                AAPL REAL NOT NULL,\n",
    "                MSFT REAL NOT NULL,\n",
    "                NVIDIA REAL NOT NULL)\n",
    "                '''\n",
    "                )"
   ]
  },
  {
   "cell_type": "code",
   "execution_count": 69,
   "metadata": {},
   "outputs": [],
   "source": [
    "data = [\n",
    "    (1, 0.3, 0.5, 0.2),\n",
    "    (2, 0.4, 0.4, 0.2),\n",
    "    (3, 0.5, 0.3, 0.2),\n",
    "    (4, 0.2, 0.6, 0.2),\n",
    "    (5, 0.1, 0.6, 0.3),\n",
    "    (6, 0.5, 0.1, 0.4),\n",
    "    (7, 0.4, 0.1, 0.5),\n",
    "    (8, 0.3, 0.3, 0.4),\n",
    "    (9, 0.3, 0.5, 0.2),\n",
    "    (10, 0.4, 0.4, 0.2)\n",
    "\n",
    "]"
   ]
  },
  {
   "cell_type": "code",
   "execution_count": 70,
   "metadata": {},
   "outputs": [
    {
     "data": {
      "text/plain": [
       "<sqlite3.Cursor at 0x21ea0399540>"
      ]
     },
     "execution_count": 70,
     "metadata": {},
     "output_type": "execute_result"
    }
   ],
   "source": [
    "codecur.executemany('''\n",
    "                INSERT INTO portfolio (CLIENT_ID, AAPL, MSFT, NVIDIA)\n",
    "                VALUES (?, ?, ?, ?)\n",
    "                ''', data)"
   ]
  },
  {
   "cell_type": "code",
   "execution_count": 71,
   "metadata": {},
   "outputs": [],
   "source": [
    "conn.commit()"
   ]
  }
 ],
 "metadata": {
  "kernelspec": {
   "display_name": ".venv",
   "language": "python",
   "name": "python3"
  },
  "language_info": {
   "codemirror_mode": {
    "name": "ipython",
    "version": 3
   },
   "file_extension": ".py",
   "mimetype": "text/x-python",
   "name": "python",
   "nbconvert_exporter": "python",
   "pygments_lexer": "ipython3",
   "version": "3.10.0"
  }
 },
 "nbformat": 4,
 "nbformat_minor": 2
}
